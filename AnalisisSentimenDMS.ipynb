{
 "cells": [
  {
   "cell_type": "markdown",
   "metadata": {},
   "source": [
    "Sentimen Analisis Konten Special Surabaya dan Journey To Annabelle oleh DMS"
   ]
  },
  {
   "cell_type": "markdown",
   "metadata": {},
   "source": [
    "Install dan Import Library"
   ]
  },
  {
   "cell_type": "code",
   "execution_count": 22,
   "metadata": {},
   "outputs": [
    {
     "name": "stderr",
     "output_type": "stream",
     "text": [
      "[nltk_data] Downloading package punkt to\n",
      "[nltk_data]     C:\\Users\\victus\\AppData\\Roaming\\nltk_data...\n",
      "[nltk_data]   Package punkt is already up-to-date!\n",
      "[nltk_data] Downloading package stopwords to\n",
      "[nltk_data]     C:\\Users\\victus\\AppData\\Roaming\\nltk_data...\n",
      "[nltk_data]   Package stopwords is already up-to-date!\n"
     ]
    },
    {
     "data": {
      "text/plain": [
       "True"
      ]
     },
     "execution_count": 22,
     "metadata": {},
     "output_type": "execute_result"
    }
   ],
   "source": [
    "# Library Standar\n",
    "import re\n",
    "import string\n",
    "import csv\n",
    "from io import StringIO\n",
    "\n",
    "# Library NLP\n",
    "import nltk\n",
    "import textblob\n",
    "import pandas as pd\n",
    "import numpy as np\n",
    "from textblob import TextBlob\n",
    "from nltk.tokenize import word_tokenize\n",
    "from nltk.corpus import stopwords\n",
    "from Sastrawi.Stemmer.StemmerFactory import StemmerFactory\n",
    "from Sastrawi.StopWordRemover.StopWordRemoverFactory import StopWordRemoverFactory\n",
    "\n",
    "# Library Machine Learning\n",
    "from sklearn.model_selection import train_test_split\n",
    "from sklearn.feature_extraction.text import TfidfVectorizer\n",
    "from sklearn.svm import SVC\n",
    "from sklearn.ensemble import RandomForestClassifier\n",
    "from sklearn.metrics import accuracy_score\n",
    "\n",
    "# Library Deep Learning\n",
    "import tensorflow as tf\n",
    "from tensorflow.keras.models import Sequential\n",
    "from tensorflow.keras.layers import Embedding, LSTM, Dense, Conv1D, MaxPooling1D, Flatten, Dropout\n",
    "\n",
    "# Library Word Embedding\n",
    "from gensim.models import Word2Vec\n",
    "\n",
    "# Library Visualisasi\n",
    "import matplotlib.pyplot as plt\n",
    "\n",
    "# Download Dataset yang Dibutuhkan\n",
    "nltk.download('punkt')\n",
    "nltk.download('stopwords')\n"
   ]
  },
  {
   "cell_type": "markdown",
   "metadata": {},
   "source": [
    "Data Gathering"
   ]
  },
  {
   "cell_type": "code",
   "execution_count": 2,
   "metadata": {},
   "outputs": [
    {
     "data": {
      "text/html": [
       "<div>\n",
       "<style scoped>\n",
       "    .dataframe tbody tr th:only-of-type {\n",
       "        vertical-align: middle;\n",
       "    }\n",
       "\n",
       "    .dataframe tbody tr th {\n",
       "        vertical-align: top;\n",
       "    }\n",
       "\n",
       "    .dataframe thead th {\n",
       "        text-align: right;\n",
       "    }\n",
       "</style>\n",
       "<table border=\"1\" class=\"dataframe\">\n",
       "  <thead>\n",
       "    <tr style=\"text-align: right;\">\n",
       "      <th></th>\n",
       "      <th>author</th>\n",
       "      <th>comment</th>\n",
       "      <th>likes</th>\n",
       "    </tr>\n",
       "  </thead>\n",
       "  <tbody>\n",
       "    <tr>\n",
       "      <th>0</th>\n",
       "      <td>@mochibull</td>\n",
       "      <td>Merinding nya kerasa sampe sini brook, geloo, ...</td>\n",
       "      <td>0</td>\n",
       "    </tr>\n",
       "    <tr>\n",
       "      <th>1</th>\n",
       "      <td>@AnisSuci-y7i</td>\n",
       "      <td>Saya orang Surabaya saya sering lewat rumah in...</td>\n",
       "      <td>0</td>\n",
       "    </tr>\n",
       "    <tr>\n",
       "      <th>2</th>\n",
       "      <td>@nurhaliza7192</td>\n",
       "      <td>nungguin yang di kalisosok nya kapan nyai😭</td>\n",
       "      <td>0</td>\n",
       "    </tr>\n",
       "    <tr>\n",
       "      <th>3</th>\n",
       "      <td>@fitri8282</td>\n",
       "      <td>duet sm ghost ranger kak</td>\n",
       "      <td>0</td>\n",
       "    </tr>\n",
       "    <tr>\n",
       "      <th>4</th>\n",
       "      <td>@GojakGojek-d3e</td>\n",
       "      <td>Kesini gara gara pesulap merah singgung inisia...</td>\n",
       "      <td>0</td>\n",
       "    </tr>\n",
       "    <tr>\n",
       "      <th>5</th>\n",
       "      <td>@zeusthemobilelegend4165</td>\n",
       "      <td>Siapa yg setuju mbak sarah kolaborasi sama ki ...</td>\n",
       "      <td>0</td>\n",
       "    </tr>\n",
       "    <tr>\n",
       "      <th>6</th>\n",
       "      <td>@Dai_houyu</td>\n",
       "      <td>Sumpah episode kali ini mual banget pengen mun...</td>\n",
       "      <td>0</td>\n",
       "    </tr>\n",
       "    <tr>\n",
       "      <th>7</th>\n",
       "      <td>@rizkyrobiatinnisa9941</td>\n",
       "      <td>haaaa gilaaa penasaran bgt apaan sih ibunya ma...</td>\n",
       "      <td>0</td>\n",
       "    </tr>\n",
       "    <tr>\n",
       "      <th>8</th>\n",
       "      <td>@irmawulandari9148</td>\n",
       "      <td>Saya download app dmsplus di tv android. Masuk...</td>\n",
       "      <td>0</td>\n",
       "    </tr>\n",
       "    <tr>\n",
       "      <th>9</th>\n",
       "      <td>@Rohaniflog</td>\n",
       "      <td>Hy kak sara aku penonton setia DMS.&lt;br&gt;Tanggap...</td>\n",
       "      <td>0</td>\n",
       "    </tr>\n",
       "  </tbody>\n",
       "</table>\n",
       "</div>"
      ],
      "text/plain": [
       "                     author  \\\n",
       "0                @mochibull   \n",
       "1             @AnisSuci-y7i   \n",
       "2            @nurhaliza7192   \n",
       "3                @fitri8282   \n",
       "4           @GojakGojek-d3e   \n",
       "5  @zeusthemobilelegend4165   \n",
       "6                @Dai_houyu   \n",
       "7    @rizkyrobiatinnisa9941   \n",
       "8        @irmawulandari9148   \n",
       "9               @Rohaniflog   \n",
       "\n",
       "                                             comment  likes  \n",
       "0  Merinding nya kerasa sampe sini brook, geloo, ...      0  \n",
       "1  Saya orang Surabaya saya sering lewat rumah in...      0  \n",
       "2         nungguin yang di kalisosok nya kapan nyai😭      0  \n",
       "3                           duet sm ghost ranger kak      0  \n",
       "4  Kesini gara gara pesulap merah singgung inisia...      0  \n",
       "5  Siapa yg setuju mbak sarah kolaborasi sama ki ...      0  \n",
       "6  Sumpah episode kali ini mual banget pengen mun...      0  \n",
       "7  haaaa gilaaa penasaran bgt apaan sih ibunya ma...      0  \n",
       "8  Saya download app dmsplus di tv android. Masuk...      0  \n",
       "9  Hy kak sara aku penonton setia DMS.<br>Tanggap...      0  "
      ]
     },
     "execution_count": 2,
     "metadata": {},
     "output_type": "execute_result"
    }
   ],
   "source": [
    "data = pd.read_csv(\"komentar_youtube_dms.csv\")\n",
    "data.head(10)"
   ]
  },
  {
   "cell_type": "markdown",
   "metadata": {},
   "source": [
    "Data Preprocessing"
   ]
  },
  {
   "cell_type": "code",
   "execution_count": 3,
   "metadata": {},
   "outputs": [],
   "source": [
    "# Membuat set berisi seluruh kata-kata tidak baku, typo, maupun slang words\n",
    "slangwords = {\"@\": \"di\", \"abis\": \"habis\", \"wtb\": \"beli\", \"masi\": \"masih\", \"wts\": \"jual\", \"wtt\": \"tukar\", \"bgt\": \"banget\", \"maks\": \"maksimal\", \"plisss\": \"tolong\", \"bgttt\": \"banget\", \"indo\": \"indonesia\", \"bgtt\": \"banget\", \"ad\": \"ada\", \"rv\": \"redvelvet\", \"plis\": \"tolong\", \"pls\": \"tolong\", \"cr\": \"sumber\", \"cod\": \"bayar ditempat\", \"adlh\": \"adalah\", \"afaik\": \"as far as i know\", \"ahaha\": \"haha\", \"aj\": \"saja\", \"ajep-ajep\": \"dunia gemerlap\", \"ak\": \"saya\", \"akika\": \"aku\", \"akkoh\": \"aku\", \"akuwh\": \"aku\", \"alay\": \"norak\", \"alow\": \"halo\", \"ambilin\": \"ambilkan\", \"ancur\": \"hancur\", \"anjrit\": \"anjing\", \"anter\": \"antar\", \"ap2\": \"apa-apa\", \"apasih\": \"apa sih\", \"apes\": \"sial\", \"aps\": \"apa\", \"aq\": \"saya\", \"aquwh\": \"aku\", \"asbun\": \"asal bunyi\", \"aseekk\": \"asyik\", \"asekk\": \"asyik\", \"asem\": \"asam\", \"aspal\": \"asli tetapi palsu\", \"astul\": \"asal tulis\", \"ato\": \"atau\", \"au ah\": \"tidak mau tahu\", \"awak\": \"saya\", \"ay\": \"sayang\", \"ayank\": \"sayang\", \"b4\": \"sebelum\", \"bakalan\": \"akan\", \"bandes\": \"bantuan desa\", \"bangedh\": \"banget\", \"banpol\": \"bantuan polisi\", \"banpur\": \"bantuan tempur\", \"basbang\": \"basi\", \"bcanda\": \"bercanda\", \"bdg\": \"bandung\", \"begajulan\": \"nakal\", \"beliin\": \"belikan\", \"bencong\": \"banci\", \"bentar\": \"sebentar\", \"ber3\": \"bertiga\", \"beresin\": \"membereskan\", \"bete\": \"bosan\", \"beud\": \"banget\", \"bg\": \"abang\", \"bgmn\": \"bagaimana\", \"bgt\": \"banget\", \"bijimane\": \"bagaimana\", \"bintal\": \"bimbingan mental\", \"bkl\": \"akan\", \"bknnya\": \"bukannya\", \"blegug\": \"bodoh\", \"blh\": \"boleh\", \"bln\": \"bulan\", \"blum\": \"belum\", \"bnci\": \"benci\", \"bnran\": \"yang benar\", \"bodor\": \"lucu\", \"bokap\": \"ayah\", \"boker\": \"buang air besar\", \"bokis\": \"bohong\", \"boljug\": \"boleh juga\", \"bonek\": \"bocah nekat\", \"boyeh\": \"boleh\", \"br\": \"baru\", \"brg\": \"bareng\", \"bro\": \"saudara laki-laki\", \"bru\": \"baru\", \"bs\": \"bisa\", \"bsen\": \"bosan\", \"bt\": \"buat\", \"btw\": \"ngomong-ngomong\", \"buaya\": \"tidak setia\", \"bubbu\": \"tidur\", \"bubu\": \"tidur\", \"bumil\": \"ibu hamil\", \"bw\": \"bawa\", \"bwt\": \"buat\", \"byk\": \"banyak\", \"byrin\": \"bayarkan\", \"cabal\": \"sabar\", \"cadas\": \"keren\", \"calo\": \"makelar\", \"can\": \"belum\", \"capcus\": \"pergi\", \"caper\": \"cari perhatian\", \"ce\": \"cewek\", \"cekal\": \"cegah tangkal\", \"cemen\": \"penakut\", \"cengengesan\": \"tertawa\", \"cepet\": \"cepat\", \"cew\": \"cewek\", \"chuyunk\": \"sayang\", \"cimeng\": \"ganja\", \"cipika cipiki\": \"cium pipi kanan cium pipi kiri\", \"ciyh\": \"sih\", \"ckepp\": \"cakep\", \"ckp\": \"cakep\", \"cmiiw\": \"correct me if i'm wrong\", \"cmpur\": \"campur\", \"cong\": \"banci\", \"conlok\": \"cinta lokasi\", \"cowwyy\": \"maaf\", \"cp\": \"siapa\", \"cpe\": \"capek\", \"cppe\": \"capek\", \"cucok\": \"cocok\", \"cuex\": \"cuek\", \"cumi\": \"Cuma miscall\", \"cups\": \"culun\", \"curanmor\": \"pencurian kendaraan bermotor\", \"curcol\": \"curahan hati colongan\", \"cwek\": \"cewek\", \"cyin\": \"cinta\", \"d\": \"di\", \"dah\": \"deh\", \"dapet\": \"dapat\", \"de\": \"adik\", \"dek\": \"adik\", \"demen\": \"suka\", \"deyh\": \"deh\", \"dgn\": \"dengan\", \"diancurin\": \"dihancurkan\", \"dimaafin\": \"dimaafkan\", \"dimintak\": \"diminta\", \"disono\": \"di sana\", \"dket\": \"dekat\", \"dkk\": \"dan kawan-kawan\", \"dll\": \"dan lain-lain\", \"dlu\": \"dulu\", \"dngn\": \"dengan\", \"dodol\": \"bodoh\", \"doku\": \"uang\", \"dongs\": \"dong\", \"dpt\": \"dapat\", \"dri\": \"dari\", \"drmn\": \"darimana\", \"drtd\": \"dari tadi\", \"dst\": \"dan seterusnya\", \"dtg\": \"datang\", \"duh\": \"aduh\", \"duren\": \"durian\", \"ed\": \"edisi\", \"egp\": \"emang gue pikirin\", \"eke\": \"aku\", \"elu\": \"kamu\", \"emangnya\": \"memangnya\", \"emng\": \"memang\", \"endak\": \"tidak\", \"enggak\": \"tidak\", \"envy\": \"iri\", \"ex\": \"mantan\", \"fax\": \"facsimile\", \"fifo\": \"first in first out\", \"folbek\": \"follow back\", \"fyi\": \"sebagai informasi\", \"gaada\": \"tidak ada uang\", \"gag\": \"tidak\", \"gaje\": \"tidak jelas\", \"gak papa\": \"tidak apa-apa\", \"gan\": \"juragan\", \"gaptek\": \"gagap teknologi\", \"gatek\": \"gagap teknologi\", \"gawe\": \"kerja\", \"gbs\": \"tidak bisa\", \"gebetan\": \"orang yang disuka\", \"geje\": \"tidak jelas\", \"gepeng\": \"gelandangan dan pengemis\", \"ghiy\": \"lagi\", \"gile\": \"gila\", \"gimana\": \"bagaimana\", \"gino\": \"gigi nongol\", \"githu\": \"gitu\", \"gj\": \"tidak jelas\", \"gmana\": \"bagaimana\", \"gn\": \"begini\", \"goblok\": \"bodoh\", \"golput\": \"golongan putih\", \"gowes\": \"mengayuh sepeda\", \"gpny\": \"tidak punya\", \"gr\": \"gede rasa\", \"gretongan\": \"gratisan\", \"gtau\": \"tidak tahu\", \"gua\": \"saya\", \"guoblok\": \"goblok\", \"gw\": \"saya\", \"ha\": \"tertawa\", \"haha\": \"tertawa\", \"hallow\": \"halo\", \"hankam\": \"pertahanan dan keamanan\", \"hehe\": \"he\", \"helo\": \"halo\", \"hey\": \"hai\", \"hlm\": \"halaman\", \"hny\": \"hanya\", \"hoax\": \"isu bohong\", \"hr\": \"hari\", \"hrus\": \"harus\", \"hubdar\": \"perhubungan darat\", \"huff\": \"mengeluh\", \"hum\": \"rumah\", \"humz\": \"rumah\", \"ilang\": \"hilang\", \"ilfil\": \"tidak suka\", \"imho\": \"in my humble opinion\", \"imoetz\": \"imut\", \"item\": \"hitam\", \"itungan\": \"hitungan\", \"iye\": \"iya\", \"ja\": \"saja\", \"jadiin\": \"jadi\", \"jaim\": \"jaga image\", \"jayus\": \"tidak lucu\", \"jdi\": \"jadi\", \"jem\": \"jam\", \"jga\": \"juga\", \"jgnkan\": \"jangankan\", \"jir\": \"anjing\", \"jln\": \"jalan\", \"jomblo\": \"tidak punya pacar\", \"jubir\": \"juru bicara\", \"jutek\": \"galak\", \"k\": \"ke\", \"kab\": \"kabupaten\", \"kabor\": \"kabur\", \"kacrut\": \"kacau\", \"kadiv\": \"kepala divisi\", \"kagak\": \"tidak\", \"kalo\": \"kalau\", \"kampret\": \"sialan\", \"kamtibmas\": \"keamanan dan ketertiban masyarakat\", \"kamuwh\": \"kamu\", \"kanwil\": \"kantor wilayah\", \"karna\": \"karena\", \"kasubbag\": \"kepala subbagian\", \"katrok\": \"kampungan\", \"kayanya\": \"kayaknya\", \"kbr\": \"kabar\", \"kdu\": \"harus\", \"kec\": \"kecamatan\", \"kejurnas\": \"kejuaraan nasional\", \"kekeuh\": \"keras kepala\", \"kel\": \"kelurahan\", \"kemaren\": \"kemarin\", \"kepengen\": \"mau\", \"kepingin\": \"mau\", \"kepsek\": \"kepala sekolah\", \"kesbang\": \"kesatuan bangsa\", \"kesra\": \"kesejahteraan rakyat\", \"ketrima\": \"diterima\", \"kgiatan\": \"kegiatan\", \"kibul\": \"bohong\", \"kimpoi\": \"kawin\", \"kl\": \"kalau\", \"klianz\": \"kalian\", \"kloter\": \"kelompok terbang\", \"klw\": \"kalau\", \"km\": \"kamu\", \"kmps\": \"kampus\", \"kmrn\": \"kemarin\", \"knal\": \"kenal\", \"knp\": \"kenapa\", \"kodya\": \"kota madya\", \"komdis\": \"komisi disiplin\", \"komsov\": \"komunis sovyet\", \"kongkow\": \"kumpul bareng teman-teman\", \"kopdar\": \"kopi darat\", \"korup\": \"korupsi\", \"kpn\": \"kapan\", \"krenz\": \"keren\", \"krm\": \"kirim\", \"kt\": \"kita\", \"ktmu\": \"ketemu\", \"ktr\": \"kantor\", \"kuper\": \"kurang pergaulan\", \"kw\": \"imitasi\", \"kyk\": \"seperti\", \"la\": \"lah\", \"lam\": \"salam\", \"lamp\": \"lampiran\", \"lanud\": \"landasan udara\", \"latgab\": \"latihan gabungan\", \"lebay\": \"berlebihan\", \"leh\": \"boleh\", \"lelet\": \"lambat\", \"lemot\": \"lambat\", \"lgi\": \"lagi\", \"lgsg\": \"langsung\", \"liat\": \"lihat\", \"litbang\": \"penelitian dan pengembangan\", \"lmyn\": \"lumayan\", \"lo\": \"kamu\", \"loe\": \"kamu\", \"lola\": \"lambat berfikir\", \"louph\": \"cinta\", \"low\": \"kalau\", \"lp\": \"lupa\", \"luber\": \"langsung, umum, bebas, dan rahasia\", \"luchuw\": \"lucu\", \"lum\": \"belum\", \"luthu\": \"lucu\", \"lwn\": \"lawan\", \"maacih\": \"terima kasih\", \"mabal\": \"bolos\", \"macem\": \"macam\", \"macih\": \"masih\", \"maem\": \"makan\", \"magabut\": \"makan gaji buta\", \"maho\": \"homo\", \"mak jang\": \"kaget\", \"maksain\": \"memaksa\", \"malem\": \"malam\", \"mam\": \"makan\", \"maneh\": \"kamu\", \"maniez\": \"manis\", \"mao\": \"mau\", \"masukin\": \"masukkan\", \"melu\": \"ikut\", \"mepet\": \"dekat sekali\", \"mgu\": \"minggu\", \"migas\": \"minyak dan gas bumi\", \"mikol\": \"minuman beralkohol\", \"miras\": \"minuman keras\", \"mlah\": \"malah\", \"mngkn\": \"mungkin\", \"mo\": \"mau\", \"mokad\": \"mati\", \"moso\": \"masa\", \"mpe\": \"sampai\", \"msk\": \"masuk\", \"mslh\": \"masalah\", \"mt\": \"makan teman\", \"mubes\": \"musyawarah besar\", \"mulu\": \"melulu\", \"mumpung\": \"selagi\", \"munas\": \"musyawarah nasional\", \"muntaber\": \"muntah dan berak\", \"musti\": \"mesti\", \"muupz\": \"maaf\", \"mw\": \"now watching\", \"n\": \"dan\", \"nanam\": \"menanam\", \"nanya\": \"bertanya\", \"napa\": \"kenapa\", \"napi\": \"narapidana\", \"napza\": \"narkotika, alkohol, psikotropika, dan zat adiktif \", \"narkoba\": \"narkotika, psikotropika, dan obat terlarang\", \"nasgor\": \"nasi goreng\", \"nda\": \"tidak\", \"ndiri\": \"sendiri\", \"ne\": \"ini\", \"nekolin\": \"neokolonialisme\", \"nembak\": \"menyatakan cinta\", \"ngabuburit\": \"menunggu berbuka puasa\", \"ngaku\": \"mengaku\", \"ngambil\": \"mengambil\", \"nganggur\": \"tidak punya pekerjaan\", \"ngapah\": \"kenapa\", \"ngaret\": \"terlambat\", \"ngasih\": \"memberikan\", \"ngebandel\": \"berbuat bandel\", \"ngegosip\": \"bergosip\", \"ngeklaim\": \"mengklaim\", \"ngeksis\": \"menjadi eksis\", \"ngeles\": \"berkilah\", \"ngelidur\": \"menggigau\", \"ngerampok\": \"merampok\", \"ngga\": \"tidak\", \"ngibul\": \"berbohong\", \"ngiler\": \"mau\", \"ngiri\": \"iri\", \"ngisiin\": \"mengisikan\", \"ngmng\": \"bicara\", \"ngomong\": \"bicara\", \"ngubek2\": \"mencari-cari\", \"ngurus\": \"mengurus\", \"nie\": \"ini\", \"nih\": \"ini\", \"niyh\": \"nih\", \"nmr\": \"nomor\", \"nntn\": \"nonton\", \"nobar\": \"nonton bareng\", \"np\": \"now playing\", \"ntar\": \"nanti\", \"ntn\": \"nonton\", \"numpuk\": \"bertumpuk\", \"nutupin\": \"menutupi\", \"nyari\": \"mencari\", \"nyekar\": \"menyekar\", \"nyicil\": \"mencicil\", \"nyoblos\": \"mencoblos\", \"nyokap\": \"ibu\", \"ogah\": \"tidak mau\", \"ol\": \"online\", \"ongkir\": \"ongkos kirim\", \"oot\": \"out of topic\", \"org2\": \"orang-orang\", \"ortu\": \"orang tua\", \"otda\": \"otonomi daerah\", \"otw\": \"on the way, sedang di jalan\", \"pacal\": \"pacar\", \"pake\": \"pakai\", \"pala\": \"kepala\", \"pansus\": \"panitia khusus\", \"parpol\": \"partai politik\", \"pasutri\": \"pasangan suami istri\", \"pd\": \"pada\", \"pede\": \"percaya diri\", \"pelatnas\": \"pemusatan latihan nasional\", \"pemda\": \"pemerintah daerah\", \"pemkot\": \"pemerintah kota\", \"pemred\": \"pemimpin redaksi\", \"penjas\": \"pendidikan jasmani\", \"perda\": \"peraturan daerah\", \"perhatiin\": \"perhatikan\", \"pesenan\": \"pesanan\", \"pgang\": \"pegang\", \"pi\": \"tapi\", \"pilkada\": \"pemilihan kepala daerah\", \"pisan\": \"sangat\", \"pk\": \"penjahat kelamin\", \"plg\": \"paling\", \"pmrnth\": \"pemerintah\", \"polantas\": \"polisi lalu lintas\", \"ponpes\": \"pondok pesantren\", \"pp\": \"pulang pergi\", \"prg\": \"pergi\", \"prnh\": \"pernah\", \"psen\": \"pesan\", \"pst\": \"pasti\", \"pswt\": \"pesawat\", \"pw\": \"posisi nyaman\", \"qmu\": \"kamu\", \"rakor\": \"rapat koordinasi\", \"ranmor\": \"kendaraan bermotor\", \"re\": \"reply\", \"ref\": \"referensi\", \"rehab\": \"rehabilitasi\", \"rempong\": \"sulit\", \"repp\": \"balas\", \"restik\": \"reserse narkotika\", \"rhs\": \"rahasia\", \"rmh\": \"rumah\", \"ru\": \"baru\", \"ruko\": \"rumah toko\", \"rusunawa\": \"rumah susun sewa\", \"ruz\": \"terus\", \"saia\": \"saya\", \"salting\": \"salah tingkah\", \"sampe\": \"sampai\", \"samsek\": \"sama sekali\", \"sapose\": \"siapa\", \"satpam\": \"satuan pengamanan\", \"sbb\": \"sebagai berikut\", \"sbh\": \"sebuah\", \"sbnrny\": \"sebenarnya\", \"scr\": \"secara\", \"sdgkn\": \"sedangkan\", \"sdkt\": \"sedikit\", \"se7\": \"setuju\", \"sebelas dua belas\": \"mirip\", \"sembako\": \"sembilan bahan pokok\", \"sempet\": \"sempat\", \"sendratari\": \"seni drama tari\", \"sgt\": \"sangat\", \"shg\": \"sehingga\", \"siech\": \"sih\", \"sikon\": \"situasi dan kondisi\", \"sinetron\": \"sinema elektronik\", \"siramin\": \"siramkan\", \"sj\": \"saja\", \"skalian\": \"sekalian\", \"sklh\": \"sekolah\", \"skt\": \"sakit\", \"slesai\": \"selesai\", \"sll\": \"selalu\", \"slma\": \"selama\", \"slsai\": \"selesai\", \"smpt\": \"sempat\", \"smw\": \"semua\", \"sndiri\": \"sendiri\", \"soljum\": \"sholat jumat\", \"songong\": \"sombong\", \"sory\": \"maaf\", \"sosek\": \"sosial-ekonomi\", \"sotoy\": \"sok tahu\", \"spa\": \"siapa\", \"sppa\": \"siapa\", \"spt\": \"seperti\", \"srtfkt\": \"sertifikat\", \"stiap\": \"setiap\", \"stlh\": \"setelah\", \"suk\": \"masuk\", \"sumpek\": \"sempit\", \"syg\": \"sayang\", \"t4\": \"tempat\", \"tajir\": \"kaya\", \"tau\": \"tahu\", \"taw\": \"tahu\", \"td\": \"tadi\", \"tdk\": \"tidak\", \"teh\": \"kakak perempuan\", \"telat\": \"terlambat\", \"telmi\": \"telat berpikir\", \"temen\": \"teman\", \"tengil\": \"menyebalkan\", \"tepar\": \"terkapar\", \"tggu\": \"tunggu\", \"tgu\": \"tunggu\", \"thankz\": \"terima kasih\", \"thn\": \"tahun\", \"tilang\": \"bukti pelanggaran\", \"tipiwan\": \"TvOne\", \"tks\": \"terima kasih\", \"tlp\": \"telepon\", \"tls\": \"tulis\", \"tmbah\": \"tambah\", \"tmen2\": \"teman-teman\", \"tmpah\": \"tumpah\", \"tmpt\": \"tempat\", \"tngu\": \"tunggu\", \"tnyta\": \"ternyata\", \"tokai\": \"tai\", \"toserba\": \"toko serba ada\", \"tpi\": \"tapi\", \"trdhulu\": \"terdahulu\", \"trima\": \"terima kasih\", \"trm\": \"terima\", \"trs\": \"terus\", \"trutama\": \"terutama\", \"ts\": \"penulis\", \"tst\": \"tahu sama tahu\", \"ttg\": \"tentang\", \"tuch\": \"tuh\", \"tuir\": \"tua\", \"tw\": \"tahu\", \"u\": \"kamu\", \"ud\": \"sudah\", \"udah\": \"sudah\", \"ujg\": \"ujung\", \"ul\": \"ulangan\", \"unyu\": \"lucu\", \"uplot\": \"unggah\", \"urang\": \"saya\", \"usah\": \"perlu\", \"utk\": \"untuk\", \"valas\": \"valuta asing\", \"w/\": \"dengan\", \"wadir\": \"wakil direktur\", \"wamil\": \"wajib militer\", \"warkop\": \"warung kopi\", \"warteg\": \"warung tegal\", \"wat\": \"buat\", \"wkt\": \"waktu\", \"wtf\": \"what the fuck\", \"xixixi\": \"tertawa\", \"ya\": \"iya\", \"yap\": \"iya\", \"yaudah\": \"ya sudah\", \"yawdah\": \"ya sudah\", \"yg\": \"yang\", \"yl\": \"yang lain\", \"yo\": \"iya\", \"yowes\": \"ya sudah\", \"yup\": \"iya\", \"7an\": \"tujuan\", \"ababil\": \"abg labil\", \"acc\": \"accord\", \"adlah\": \"adalah\", \"adoh\": \"aduh\", \"aha\": \"tertawa\", \"aing\": \"saya\", \"aja\": \"saja\", \"ajj\": \"saja\", \"aka\": \"dikenal juga sebagai\", \"akko\": \"aku\", \"akku\": \"aku\", \"akyu\": \"aku\", \"aljasa\": \"asal jadi saja\", \"ama\": \"sama\", \"ambl\": \"ambil\", \"anjir\": \"anjing\", \"ank\": \"anak\", \"ap\": \"apa\", \"apaan\": \"apa\", \"ape\": \"apa\", \"aplot\": \"unggah\", \"apva\": \"apa\", \"aqu\": \"aku\", \"asap\": \"sesegera mungkin\", \"aseek\": \"asyik\", \"asek\": \"asyik\", \"aseknya\": \"asyiknya\", \"asoy\": \"asyik\", \"astrojim\": \"astagfirullahaladzim\", \"ath\": \"kalau begitu\", \"atuh\": \"kalau begitu\", \"ava\": \"avatar\", \"aws\": \"awas\", \"ayang\": \"sayang\", \"ayok\": \"ayo\", \"bacot\": \"banyak bicara\", \"bales\": \"balas\", \"bangdes\": \"pembangunan desa\", \"bangkotan\": \"tua\", \"banpres\": \"bantuan presiden\", \"bansarkas\": \"bantuan sarana kesehatan\", \"bazis\": \"badan amal, zakat, infak, dan sedekah\", \"bcoz\": \"karena\", \"beb\": \"sayang\", \"bejibun\": \"banyak\", \"belom\": \"belum\", \"bener\": \"benar\", \"ber2\": \"berdua\", \"berdikari\": \"berdiri di atas kaki sendiri\", \"bet\": \"banget\", \"beti\": \"beda tipis\", \"beut\": \"banget\", \"bgd\": \"banget\", \"bgs\": \"bagus\", \"bhubu\": \"tidur\", \"bimbuluh\": \"bimbingan dan penyuluhan\", \"bisi\": \"kalau-kalau\", \"bkn\": \"bukan\", \"bl\": \"beli\", \"blg\": \"bilang\", \"blm\": \"belum\", \"bls\": \"balas\", \"bnchi\": \"benci\", \"bngung\": \"bingung\", \"bnyk\": \"banyak\", \"bohay\": \"badan aduhai\", \"bokep\": \"porno\", \"bokin\": \"pacar\", \"bole\": \"boleh\", \"bolot\": \"bodoh\", \"bonyok\": \"ayah ibu\", \"bpk\": \"bapak\", \"brb\": \"segera kembali\", \"brngkt\": \"berangkat\", \"brp\": \"berapa\", \"brur\": \"saudara laki-laki\", \"bsa\": \"bisa\", \"bsk\": \"besok\", \"bu_bu\": \"tidur\", \"bubarin\": \"bubarkan\", \"buber\": \"buka bersama\", \"bujubune\": \"luar biasa\", \"buser\": \"buru sergap\", \"bwhn\": \"bawahan\", \"byar\": \"bayar\", \"byr\": \"bayar\", \"c8\": \"chat\", \"cabut\": \"pergi\", \"caem\": \"cakep\", \"cama-cama\": \"sama-sama\", \"cangcut\": \"celana dalam\", \"cape\": \"capek\", \"caur\": \"jelek\", \"cekak\": \"tidak ada uang\", \"cekidot\": \"coba lihat\", \"cemplungin\": \"cemplungkan\", \"ceper\": \"pendek\", \"ceu\": \"kakak perempuan\", \"cewe\": \"cewek\", \"cibuk\": \"sibuk\", \"cin\": \"cinta\", \"ciye\": \"cie\", \"ckck\": \"ck\", \"clbk\": \"cinta lama bersemi kembali\", \"cmpr\": \"campur\", \"cnenk\": \"senang\", \"congor\": \"mulut\", \"cow\": \"cowok\", \"coz\": \"karena\", \"cpa\": \"siapa\", \"gokil\": \"gila\", \"gombal\": \"suka merayu\", \"gpl\": \"tidak pakai lama\", \"gpp\": \"tidak apa-apa\", \"gretong\": \"gratis\", \"gt\": \"begitu\", \"gtw\": \"tidak tahu\", \"gue\": \"saya\", \"guys\": \"teman-teman\", \"gws\": \"cepat sembuh\", \"haghaghag\": \"tertawa\", \"hakhak\": \"tertawa\", \"handak\": \"bahan peledak\", \"hansip\": \"pertahanan sipil\", \"hellow\": \"halo\", \"helow\": \"halo\", \"hi\": \"hai\", \"hlng\": \"hilang\", \"hnya\": \"hanya\", \"houm\": \"rumah\", \"hrs\": \"harus\", \"hubad\": \"hubungan angkatan darat\", \"hubla\": \"perhubungan laut\", \"huft\": \"mengeluh\", \"humas\": \"hubungan masyarakat\", \"idk\": \"saya tidak tahu\", \"ilfeel\": \"tidak suka\", \"imba\": \"jago sekali\", \"imoet\": \"imut\", \"info\": \"informasi\", \"itung\": \"hitung\", \"isengin\": \"bercanda\", \"iyala\": \"iya lah\", \"iyo\": \"iya\", \"jablay\": \"jarang dibelai\", \"jadul\": \"jaman dulu\", \"jancuk\": \"anjing\", \"jd\": \"jadi\", \"jdikan\": \"jadikan\", \"jg\": \"juga\", \"jgn\": \"jangan\", \"jijay\": \"jijik\", \"jkt\": \"jakarta\", \"jnj\": \"janji\", \"jth\": \"jatuh\", \"jurdil\": \"jujur adil\", \"jwb\": \"jawab\", \"ka\": \"kakak\", \"kabag\": \"kepala bagian\", \"kacian\": \"kasihan\", \"kadit\": \"kepala direktorat\", \"kaga\": \"tidak\", \"kaka\": \"kakak\", \"kamtib\": \"keamanan dan ketertiban\", \"kamuh\": \"kamu\", \"kamyu\": \"kamu\", \"kapt\": \"kapten\", \"kasat\": \"kepala satuan\", \"kasubbid\": \"kepala subbidang\", \"kau\": \"kamu\", \"kbar\": \"kabar\", \"kcian\": \"kasihan\", \"keburu\": \"terlanjur\", \"kedubes\": \"kedutaan besar\", \"kek\": \"seperti\", \"keknya\": \"kayaknya\", \"keliatan\": \"kelihatan\", \"keneh\": \"masih\", \"kepikiran\": \"terpikirkan\", \"kepo\": \"mau tahu urusan orang\", \"kere\": \"tidak punya uang\", \"kesian\": \"kasihan\", \"ketauan\": \"ketahuan\", \"keukeuh\": \"keras kepala\", \"khan\": \"kan\", \"kibus\": \"kaki busuk\", \"kk\": \"kakak\", \"klian\": \"kalian\", \"klo\": \"kalau\", \"kluarga\": \"keluarga\", \"klwrga\": \"keluarga\", \"kmari\": \"kemari\", \"kmpus\": \"kampus\", \"kn\": \"kan\", \"knl\": \"kenal\", \"knpa\": \"kenapa\", \"kog\": \"kok\", \"kompi\": \"komputer\", \"komtiong\": \"komunis Tiongkok\", \"konjen\": \"konsulat jenderal\", \"koq\": \"kok\", \"kpd\": \"kepada\", \"kptsan\": \"keputusan\", \"krik\": \"garing\", \"krn\": \"karena\", \"ktauan\": \"ketahuan\", \"ktny\": \"katanya\", \"kudu\": \"harus\", \"kuq\": \"kok\", \"ky\": \"seperti\", \"kykny\": \"kayanya\", \"laka\": \"kecelakaan\", \"lambreta\": \"lambat\", \"lansia\": \"lanjut usia\", \"lapas\": \"lembaga pemasyarakatan\", \"lbur\": \"libur\", \"lekong\": \"laki-laki\", \"lg\": \"lagi\", \"lgkp\": \"lengkap\", \"lht\": \"lihat\", \"linmas\": \"perlindungan masyarakat\", \"lmyan\": \"lumayan\", \"lngkp\": \"lengkap\", \"loch\": \"loh\", \"lol\": \"tertawa\", \"lom\": \"belum\", \"loupz\": \"cinta\", \"lowh\": \"kamu\", \"lu\": \"kamu\", \"luchu\": \"lucu\", \"luff\": \"cinta\", \"luph\": \"cinta\", \"lw\": \"kamu\", \"lwt\": \"lewat\", \"maaciw\": \"terima kasih\", \"mabes\": \"markas besar\", \"macem-macem\": \"macam-macam\", \"madesu\": \"masa depan suram\", \"maen\": \"main\", \"mahatma\": \"maju sehat bersama\", \"mak\": \"ibu\", \"makasih\": \"terima kasih\", \"malah\": \"bahkan\", \"malu2in\": \"memalukan\", \"mamz\": \"makan\", \"manies\": \"manis\", \"mantep\": \"mantap\", \"markus\": \"makelar kasus\", \"mba\": \"mbak\", \"mending\": \"lebih baik\", \"mgkn\": \"mungkin\", \"mhn\": \"mohon\", \"miker\": \"minuman keras\", \"milis\": \"mailing list\", \"mksd\": \"maksud\", \"mls\": \"malas\", \"mnt\": \"minta\", \"moge\": \"motor gede\", \"mokat\": \"mati\", \"mosok\": \"masa\", \"msh\": \"masih\", \"mskpn\": \"meskipun\", \"msng2\": \"masing-masing\", \"muahal\": \"mahal\", \"muker\": \"musyawarah kerja\", \"mumet\": \"pusing\", \"muna\": \"munafik\", \"munaslub\": \"musyawarah nasional luar biasa\", \"musda\": \"musyawarah daerah\", \"muup\": \"maaf\", \"muuv\": \"maaf\", \"nal\": \"kenal\", \"nangis\": \"menangis\", \"naon\": \"apa\", \"napol\": \"narapidana politik\", \"naq\": \"anak\", \"narsis\": \"bangga pada diri sendiri\", \"nax\": \"anak\", \"ndak\": \"tidak\", \"ndut\": \"gendut\", \"nekolim\": \"neokolonialisme\", \"nelfon\": \"menelepon\", \"ngabis2in\": \"menghabiskan\", \"ngakak\": \"tertawa\", \"ngambek\": \"marah\", \"ngampus\": \"pergi ke kampus\", \"ngantri\": \"mengantri\", \"ngapain\": \"sedang apa\", \"ngaruh\": \"berpengaruh\", \"ngawur\": \"berbicara sembarangan\", \"ngeceng\": \"kumpul bareng-bareng\", \"ngeh\": \"sadar\", \"ngekos\": \"tinggal di kos\", \"ngelamar\": \"melamar\", \"ngeliat\": \"melihat\", \"ngemeng\": \"bicara terus-terusan\", \"ngerti\": \"mengerti\", \"nggak\": \"tidak\", \"ngikut\": \"ikut\", \"nginep\": \"menginap\", \"ngisi\": \"mengisi\", \"ngmg\": \"bicara\", \"ngocol\": \"lucu\", \"ngomongin\": \"membicarakan\", \"ngumpul\": \"berkumpul\", \"ni\": \"ini\", \"nyasar\": \"tersesat\", \"nyariin\": \"mencari\", \"nyiapin\": \"mempersiapkan\", \"nyiram\": \"menyiram\", \"nyok\": \"ayo\", \"o/\": \"oleh\", \"ok\": \"ok\", \"priksa\": \"periksa\", \"pro\": \"profesional\", \"psn\": \"pesan\", \"psti\": \"pasti\", \"puanas\": \"panas\", \"qmo\": \"kamu\", \"qt\": \"kita\", \"rame\": \"ramai\", \"raskin\": \"rakyat miskin\", \"red\": \"redaksi\", \"reg\": \"register\", \"rejeki\": \"rezeki\", \"renstra\": \"rencana strategis\", \"reskrim\": \"reserse kriminal\", \"sni\": \"sini\", \"somse\": \"sombong sekali\", \"sorry\": \"maaf\", \"sosbud\": \"sosial-budaya\", \"sospol\": \"sosial-politik\", \"sowry\": \"maaf\", \"spd\": \"sepeda\", \"sprti\": \"seperti\", \"spy\": \"supaya\", \"stelah\": \"setelah\", \"subbag\": \"subbagian\", \"sumbangin\": \"sumbangkan\", \"sy\": \"saya\", \"syp\": \"siapa\", \"tabanas\": \"tabungan pembangunan nasional\", \"tar\": \"nanti\", \"taun\": \"tahun\", \"tawh\": \"tahu\", \"tdi\": \"tadi\", \"te2p\": \"tetap\", \"tekor\": \"rugi\", \"telkom\": \"telekomunikasi\", \"telp\": \"telepon\", \"temen2\": \"teman-teman\", \"tengok\": \"menjenguk\", \"terbitin\": \"terbitkan\", \"tgl\": \"tanggal\", \"thanks\": \"terima kasih\", \"thd\": \"terhadap\", \"thx\": \"terima kasih\", \"tipi\": \"TV\", \"tkg\": \"tukang\", \"tll\": \"terlalu\", \"tlpn\": \"telepon\", \"tman\": \"teman\", \"tmbh\": \"tambah\", \"tmn2\": \"teman-teman\", \"tmph\": \"tumpah\", \"tnda\": \"tanda\", \"tnh\": \"tanah\", \"togel\": \"toto gelap\", \"tp\": \"tapi\", \"tq\": \"terima kasih\", \"trgntg\": \"tergantung\", \"trims\": \"terima kasih\", \"cb\": \"coba\", \"y\": \"ya\", \"munfik\": \"munafik\", \"reklamuk\": \"reklamasi\", \"sma\": \"sama\", \"tren\": \"trend\", \"ngehe\": \"kesal\", \"mz\": \"mas\", \"analisise\": \"analisis\", \"sadaar\": \"sadar\", \"sept\": \"september\", \"nmenarik\": \"menarik\", \"zonk\": \"bodoh\", \"rights\": \"benar\", \"simiskin\": \"miskin\", \"ngumpet\": \"sembunyi\", \"hardcore\": \"keras\", \"akhirx\": \"akhirnya\", \"solve\": \"solusi\", \"watuk\": \"batuk\", \"ngebully\": \"intimidasi\", \"masy\": \"masyarakat\", \"still\": \"masih\", \"tauk\": \"tahu\", \"mbual\": \"bual\", \"tioghoa\": \"tionghoa\", \"ngentotin\": \"senggama\", \"kentot\": \"senggama\", \"faktakta\": \"fakta\", \"sohib\": \"teman\", \"rubahnn\": \"rubah\", \"trlalu\": \"terlalu\", \"nyela\": \"cela\", \"heters\": \"pembenci\", \"nyembah\": \"sembah\", \"most\": \"paling\", \"ikon\": \"lambang\", \"light\": \"terang\", \"pndukung\": \"pendukung\", \"setting\": \"atur\", \"seting\": \"akting\", \"next\": \"lanjut\", \"waspadalah\": \"waspada\", \"gantengsaya\": \"ganteng\", \"parte\": \"partai\", \"nyerang\": \"serang\", \"nipu\": \"tipu\", \"ktipu\": \"tipu\", \"jentelmen\": \"berani\", \"buangbuang\": \"buang\", \"tsangka\": \"tersangka\", \"kurng\": \"kurang\", \"ista\": \"nista\", \"less\": \"kurang\", \"koar\": \"teriak\", \"paranoid\": \"takut\", \"problem\": \"masalah\", \"tahi\": \"kotoran\", \"tirani\": \"tiran\", \"tilep\": \"tilap\", \"happy\": \"bahagia\", \"tak\": \"tidak\", \"penertiban\": \"tertib\", \"uasai\": \"kuasa\", \"mnolak\": \"tolak\", \"trending\": \"trend\", \"taik\": \"tahi\", \"wkwkkw\": \"tertawa\", \"ahokncc\": \"ahok\", \"istaa\": \"nista\", \"benarjujur\": \"jujur\", \"mgkin\": \"mungkin\"}\n",
    "\n",
    "# Membuat fungsi untuk memperbaiki kata-kata, mengembalikan hasil berupa kata yang telah diperbaiki\n",
    "def fix_slangwords(text):\n",
    "    words = text.split()\n",
    "    fixed_words = []\n",
    "\n",
    "    for word in words:\n",
    "        if word.lower() in slangwords:\n",
    "            fixed_words.append(slangwords[word.lower()])\n",
    "        else:\n",
    "            fixed_words.append(word)\n",
    "\n",
    "    fixed_text = ' '.join(fixed_words)\n",
    "    return fixed_text"
   ]
  },
  {
   "cell_type": "code",
   "execution_count": 4,
   "metadata": {},
   "outputs": [],
   "source": [
    "def cleaningText(text):\n",
    "    text = re.sub(r'@[A-Za-z0-9]+', '', text) # Menghapus mention\n",
    "    text = re.sub(r'#[A-Za-z0-9]+', '', text) # Menghapus hashtag\n",
    "    text = re.sub(r'RT[\\s]', '', text) # Menghapus RT\n",
    "    text = re.sub(r\"http\\S+\", '', text) # Menghapus link\n",
    "    text = re.sub(r'[0-9]+', '', text) # Menghapus angka\n",
    "    text = re.sub(r'[^\\w\\s]', '', text) # Menghapus karakter selain huruf dan angka\n",
    "    text = text.replace('\\n', ' ') # Mengganti baris baru dengan spasi\n",
    "    text = text.translate(str.maketrans('', '', string.punctuation)) # Menghapus semua tanda baca\n",
    "    text = text.strip(' ') # Menghapus karakter spasi dari kiri dan kanan teks\n",
    "    return text\n",
    "\n",
    "# Mengubah semua karakter dalam teks menjadi huruf kecil\n",
    "def casefoldingText(text):\n",
    "    text = text.lower()\n",
    "    return text\n",
    "\n",
    "# Memecah atau membagi string, teks menjadi daftar token\n",
    "def tokenizingText(text):\n",
    "    text = word_tokenize(text)\n",
    "    return text\n",
    "\n",
    "# Menghapus stopwords dalam teks\n",
    "def filteringText(text):\n",
    "    listStopwords = set(stopwords.words('indonesian'))\n",
    "\n",
    "    # List stopwords dapat ditambah lagi jika menemukan\n",
    "    listStopwords.update([\"aku\", \"kamu\", \"dia\", \"kami\", \"kita\", \"mereka\", \"ini\", \"itu\", \"sini\", \"situ\", \"sana\",\n",
    "    \"iya\", \"tidak\", \"gak\", \"nggak\", \"loh\", \"deh\", \"dong\", \"aja\", \"nih\", \"de\", \"ke\", \"dan\",\n",
    "    \"atau\", \"tapi\", \"karena\", \"jadi\", \"dengan\", \"untuk\", \"sebagai\", \"pada\", \"dari\", \"oleh\",\n",
    "    \"nya\", \"lah\", \"si\", \"ga\", \"ya\", \"yaa\", \"na\", \"sih\", \"eh\", \"ku\", \"woi\", \"woii\", \"woy\",\n",
    "    \"yuk\", \"br\", \"ulm\", \"mas\", \"mbak\", \"bro\", \"sis\", \"min\", \"enggak\", \"gw\", \"gue\", \"lu\",\n",
    "    \"lo\", \"gua\", \"belum\", \"sudah\", \"udah\", \"emang\", \"kayak\", \"bukan\", \"mau\", \"apa\",\n",
    "    \"ngga\", \"bisa\", \"gitu\", \"mungkin\", \"harus\", \"gimana\", \"lagi\", \"seperti\", \"malah\",\n",
    "    \"kan\", \"sama\", \"seharusnya\", \"hanya\", \"bahwa\", \"tuh\", \"kok\"])\n",
    "    filtered = []\n",
    "    for txt in text:\n",
    "        if txt not in listStopwords:\n",
    "            filtered.append(txt)\n",
    "    text = filtered\n",
    "    return text\n",
    "\n",
    "# Mengurangi kata ke bentuk dasarnya yang menghilangkan imbuhan awalan dan akhiran atau ke akar kata\n",
    "def stemmingText(text):\n",
    "    # Membuat objek stemmer\n",
    "    factory = StemmerFactory()\n",
    "    stemmer = factory.create_stemmer()\n",
    "\n",
    "    # Memecah teks menjadi daftar kata\n",
    "    words = text.split()\n",
    "\n",
    "    # Menerapkan stemming pada setiap kata dalam daftar\n",
    "    stemmed_words = [stemmer.stem(word) for word in words]\n",
    "\n",
    "    # Menggabungkan kata-kata yang telah distem\n",
    "    stemmed_text = \" \".join(stemmed_words)\n",
    "\n",
    "    return stemmed_text\n",
    "\n",
    "# Mengubah daftar kata menjadi kalimat\n",
    "def toSentence(list_words):\n",
    "    sentence = ' '.join(word for word in list_words)\n",
    "    return sentence"
   ]
  },
  {
   "cell_type": "code",
   "execution_count": 5,
   "metadata": {},
   "outputs": [],
   "source": [
    "# Membersihkan teks dan menyimpannya di kolom \"text_clean\"\n",
    "data[\"text_clean\"] = data[\"comment\"].apply(cleaningText)\n",
    "\n",
    "# Mengubah huruf dalam teks menjadi huruf kecil dan menyimpannya di \"text_casefoldingText\"\n",
    "data[\"text_casefoldingText\"] = data[\"text_clean\"].apply(casefoldingText)\n",
    "\n",
    "# Mengganti kata-kata slang dengan kata-kata standar dan menyimpannya di \"text_slangwords\"\n",
    "data[\"text_slangwords\"] = data[\"text_casefoldingText\"].apply(fix_slangwords)\n",
    "\n",
    "# Memecah teks menjadi token (kata-kata) dan menyimpannya di \"text_tokenizingText\"\n",
    "data[\"text_tokenizingText\"] = data[\"text_slangwords\"].apply(tokenizingText)\n",
    "\n",
    "# Menghapus kata-kata stop (kata-kata umum) dan menyimpannya di \"text_stopword\"\n",
    "data[\"text_stopword\"] = data[\"text_tokenizingText\"].apply(filteringText)\n",
    "\n",
    "# Menggabungkan token-token menjadi kalimat dan menyimpannya di \"text_akhir\"\n",
    "data[\"text_akhir\"] = data[\"text_stopword\"].apply(toSentence)"
   ]
  },
  {
   "cell_type": "code",
   "execution_count": 6,
   "metadata": {},
   "outputs": [
    {
     "data": {
      "text/html": [
       "<div>\n",
       "<style scoped>\n",
       "    .dataframe tbody tr th:only-of-type {\n",
       "        vertical-align: middle;\n",
       "    }\n",
       "\n",
       "    .dataframe tbody tr th {\n",
       "        vertical-align: top;\n",
       "    }\n",
       "\n",
       "    .dataframe thead th {\n",
       "        text-align: right;\n",
       "    }\n",
       "</style>\n",
       "<table border=\"1\" class=\"dataframe\">\n",
       "  <thead>\n",
       "    <tr style=\"text-align: right;\">\n",
       "      <th></th>\n",
       "      <th>author</th>\n",
       "      <th>comment</th>\n",
       "      <th>likes</th>\n",
       "      <th>text_clean</th>\n",
       "      <th>text_casefoldingText</th>\n",
       "      <th>text_slangwords</th>\n",
       "      <th>text_tokenizingText</th>\n",
       "      <th>text_stopword</th>\n",
       "      <th>text_akhir</th>\n",
       "    </tr>\n",
       "  </thead>\n",
       "  <tbody>\n",
       "    <tr>\n",
       "      <th>0</th>\n",
       "      <td>@mochibull</td>\n",
       "      <td>Merinding nya kerasa sampe sini brook, geloo, ...</td>\n",
       "      <td>0</td>\n",
       "      <td>Merinding nya kerasa sampe sini brook geloo ba...</td>\n",
       "      <td>merinding nya kerasa sampe sini brook geloo ba...</td>\n",
       "      <td>merinding nya kerasa sampai sini brook geloo b...</td>\n",
       "      <td>[merinding, nya, kerasa, sampai, sini, brook, ...</td>\n",
       "      <td>[merinding, kerasa, brook, geloo, kali, merind...</td>\n",
       "      <td>merinding kerasa brook geloo kali merinding</td>\n",
       "    </tr>\n",
       "    <tr>\n",
       "      <th>1</th>\n",
       "      <td>@AnisSuci-y7i</td>\n",
       "      <td>Saya orang Surabaya saya sering lewat rumah in...</td>\n",
       "      <td>0</td>\n",
       "      <td>Saya orang Surabaya saya sering lewat rumah in...</td>\n",
       "      <td>saya orang surabaya saya sering lewat rumah in...</td>\n",
       "      <td>saya orang surabaya saya sering lewat rumah in...</td>\n",
       "      <td>[saya, orang, surabaya, saya, sering, lewat, r...</td>\n",
       "      <td>[orang, surabaya, rumah, inistiap, slalu, wani...</td>\n",
       "      <td>orang surabaya rumah inistiap slalu wanita ber...</td>\n",
       "    </tr>\n",
       "    <tr>\n",
       "      <th>2</th>\n",
       "      <td>@nurhaliza7192</td>\n",
       "      <td>nungguin yang di kalisosok nya kapan nyai😭</td>\n",
       "      <td>0</td>\n",
       "      <td>nungguin yang di kalisosok nya kapan nyai</td>\n",
       "      <td>nungguin yang di kalisosok nya kapan nyai</td>\n",
       "      <td>nungguin yang di kalisosok nya kapan nyai</td>\n",
       "      <td>[nungguin, yang, di, kalisosok, nya, kapan, nyai]</td>\n",
       "      <td>[nungguin, kalisosok, nyai]</td>\n",
       "      <td>nungguin kalisosok nyai</td>\n",
       "    </tr>\n",
       "    <tr>\n",
       "      <th>3</th>\n",
       "      <td>@fitri8282</td>\n",
       "      <td>duet sm ghost ranger kak</td>\n",
       "      <td>0</td>\n",
       "      <td>duet sm ghost ranger kak</td>\n",
       "      <td>duet sm ghost ranger kak</td>\n",
       "      <td>duet sm ghost ranger kak</td>\n",
       "      <td>[duet, sm, ghost, ranger, kak]</td>\n",
       "      <td>[duet, sm, ghost, ranger, kak]</td>\n",
       "      <td>duet sm ghost ranger kak</td>\n",
       "    </tr>\n",
       "    <tr>\n",
       "      <th>4</th>\n",
       "      <td>@GojakGojek-d3e</td>\n",
       "      <td>Kesini gara gara pesulap merah singgung inisia...</td>\n",
       "      <td>0</td>\n",
       "      <td>Kesini gara gara pesulap merah singgung inisia...</td>\n",
       "      <td>kesini gara gara pesulap merah singgung inisia...</td>\n",
       "      <td>kesini gara gara pesulap merah singgung inisia...</td>\n",
       "      <td>[kesini, gara, gara, pesulap, merah, singgung,...</td>\n",
       "      <td>[kesini, gara, gara, pesulap, merah, singgung,...</td>\n",
       "      <td>kesini gara gara pesulap merah singgung inisia...</td>\n",
       "    </tr>\n",
       "    <tr>\n",
       "      <th>5</th>\n",
       "      <td>@zeusthemobilelegend4165</td>\n",
       "      <td>Siapa yg setuju mbak sarah kolaborasi sama ki ...</td>\n",
       "      <td>0</td>\n",
       "      <td>Siapa yg setuju mbak sarah kolaborasi sama ki ...</td>\n",
       "      <td>siapa yg setuju mbak sarah kolaborasi sama ki ...</td>\n",
       "      <td>siapa yang setuju mbak sarah kolaborasi sama k...</td>\n",
       "      <td>[siapa, yang, setuju, mbak, sarah, kolaborasi,...</td>\n",
       "      <td>[setuju, sarah, kolaborasi, ki, prana, lewu, s...</td>\n",
       "      <td>setuju sarah kolaborasi ki prana lewu seru pen...</td>\n",
       "    </tr>\n",
       "    <tr>\n",
       "      <th>6</th>\n",
       "      <td>@Dai_houyu</td>\n",
       "      <td>Sumpah episode kali ini mual banget pengen mun...</td>\n",
       "      <td>0</td>\n",
       "      <td>Sumpah episode kali ini mual banget pengen mun...</td>\n",
       "      <td>sumpah episode kali ini mual banget pengen mun...</td>\n",
       "      <td>sumpah episode kali ini mual banget pengen mun...</td>\n",
       "      <td>[sumpah, episode, kali, ini, mual, banget, pen...</td>\n",
       "      <td>[sumpah, episode, kali, mual, banget, pengen, ...</td>\n",
       "      <td>sumpah episode kali mual banget pengen muntah ...</td>\n",
       "    </tr>\n",
       "    <tr>\n",
       "      <th>7</th>\n",
       "      <td>@rizkyrobiatinnisa9941</td>\n",
       "      <td>haaaa gilaaa penasaran bgt apaan sih ibunya ma...</td>\n",
       "      <td>0</td>\n",
       "      <td>haaaa gilaaa penasaran bgt apaan sih ibunya ma...</td>\n",
       "      <td>haaaa gilaaa penasaran bgt apaan sih ibunya ma...</td>\n",
       "      <td>haaaa gilaaa penasaran banget apa sih ibunya m...</td>\n",
       "      <td>[haaaa, gilaaa, penasaran, banget, apa, sih, i...</td>\n",
       "      <td>[haaaa, gilaaa, penasaran, banget, ibunya, dav...</td>\n",
       "      <td>haaaa gilaaa penasaran banget ibunya daviiidd</td>\n",
       "    </tr>\n",
       "    <tr>\n",
       "      <th>8</th>\n",
       "      <td>@irmawulandari9148</td>\n",
       "      <td>Saya download app dmsplus di tv android. Masuk...</td>\n",
       "      <td>0</td>\n",
       "      <td>Saya download app dmsplus di tv android Masuki...</td>\n",
       "      <td>saya download app dmsplus di tv android masuki...</td>\n",
       "      <td>saya download app dmsplus di tv android masukk...</td>\n",
       "      <td>[saya, download, app, dmsplus, di, tv, android...</td>\n",
       "      <td>[download, app, dmsplus, tv, android, masukkan...</td>\n",
       "      <td>download app dmsplus tv android masukkan email...</td>\n",
       "    </tr>\n",
       "    <tr>\n",
       "      <th>9</th>\n",
       "      <td>@Rohaniflog</td>\n",
       "      <td>Hy kak sara aku penonton setia DMS.&lt;br&gt;Tanggap...</td>\n",
       "      <td>0</td>\n",
       "      <td>Hy kak sara aku penonton setia DMSbrTanggapan ...</td>\n",
       "      <td>hy kak sara aku penonton setia dmsbrtanggapan ...</td>\n",
       "      <td>hy kak sara aku penonton setia dmsbrtanggapan ...</td>\n",
       "      <td>[hy, kak, sara, aku, penonton, setia, dmsbrtan...</td>\n",
       "      <td>[hy, kak, sara, penonton, setia, dmsbrtanggapa...</td>\n",
       "      <td>hy kak sara penonton setia dmsbrtanggapan kak ...</td>\n",
       "    </tr>\n",
       "  </tbody>\n",
       "</table>\n",
       "</div>"
      ],
      "text/plain": [
       "                     author  \\\n",
       "0                @mochibull   \n",
       "1             @AnisSuci-y7i   \n",
       "2            @nurhaliza7192   \n",
       "3                @fitri8282   \n",
       "4           @GojakGojek-d3e   \n",
       "5  @zeusthemobilelegend4165   \n",
       "6                @Dai_houyu   \n",
       "7    @rizkyrobiatinnisa9941   \n",
       "8        @irmawulandari9148   \n",
       "9               @Rohaniflog   \n",
       "\n",
       "                                             comment  likes  \\\n",
       "0  Merinding nya kerasa sampe sini brook, geloo, ...      0   \n",
       "1  Saya orang Surabaya saya sering lewat rumah in...      0   \n",
       "2         nungguin yang di kalisosok nya kapan nyai😭      0   \n",
       "3                           duet sm ghost ranger kak      0   \n",
       "4  Kesini gara gara pesulap merah singgung inisia...      0   \n",
       "5  Siapa yg setuju mbak sarah kolaborasi sama ki ...      0   \n",
       "6  Sumpah episode kali ini mual banget pengen mun...      0   \n",
       "7  haaaa gilaaa penasaran bgt apaan sih ibunya ma...      0   \n",
       "8  Saya download app dmsplus di tv android. Masuk...      0   \n",
       "9  Hy kak sara aku penonton setia DMS.<br>Tanggap...      0   \n",
       "\n",
       "                                          text_clean  \\\n",
       "0  Merinding nya kerasa sampe sini brook geloo ba...   \n",
       "1  Saya orang Surabaya saya sering lewat rumah in...   \n",
       "2          nungguin yang di kalisosok nya kapan nyai   \n",
       "3                           duet sm ghost ranger kak   \n",
       "4  Kesini gara gara pesulap merah singgung inisia...   \n",
       "5  Siapa yg setuju mbak sarah kolaborasi sama ki ...   \n",
       "6  Sumpah episode kali ini mual banget pengen mun...   \n",
       "7  haaaa gilaaa penasaran bgt apaan sih ibunya ma...   \n",
       "8  Saya download app dmsplus di tv android Masuki...   \n",
       "9  Hy kak sara aku penonton setia DMSbrTanggapan ...   \n",
       "\n",
       "                                text_casefoldingText  \\\n",
       "0  merinding nya kerasa sampe sini brook geloo ba...   \n",
       "1  saya orang surabaya saya sering lewat rumah in...   \n",
       "2          nungguin yang di kalisosok nya kapan nyai   \n",
       "3                           duet sm ghost ranger kak   \n",
       "4  kesini gara gara pesulap merah singgung inisia...   \n",
       "5  siapa yg setuju mbak sarah kolaborasi sama ki ...   \n",
       "6  sumpah episode kali ini mual banget pengen mun...   \n",
       "7  haaaa gilaaa penasaran bgt apaan sih ibunya ma...   \n",
       "8  saya download app dmsplus di tv android masuki...   \n",
       "9  hy kak sara aku penonton setia dmsbrtanggapan ...   \n",
       "\n",
       "                                     text_slangwords  \\\n",
       "0  merinding nya kerasa sampai sini brook geloo b...   \n",
       "1  saya orang surabaya saya sering lewat rumah in...   \n",
       "2          nungguin yang di kalisosok nya kapan nyai   \n",
       "3                           duet sm ghost ranger kak   \n",
       "4  kesini gara gara pesulap merah singgung inisia...   \n",
       "5  siapa yang setuju mbak sarah kolaborasi sama k...   \n",
       "6  sumpah episode kali ini mual banget pengen mun...   \n",
       "7  haaaa gilaaa penasaran banget apa sih ibunya m...   \n",
       "8  saya download app dmsplus di tv android masukk...   \n",
       "9  hy kak sara aku penonton setia dmsbrtanggapan ...   \n",
       "\n",
       "                                 text_tokenizingText  \\\n",
       "0  [merinding, nya, kerasa, sampai, sini, brook, ...   \n",
       "1  [saya, orang, surabaya, saya, sering, lewat, r...   \n",
       "2  [nungguin, yang, di, kalisosok, nya, kapan, nyai]   \n",
       "3                     [duet, sm, ghost, ranger, kak]   \n",
       "4  [kesini, gara, gara, pesulap, merah, singgung,...   \n",
       "5  [siapa, yang, setuju, mbak, sarah, kolaborasi,...   \n",
       "6  [sumpah, episode, kali, ini, mual, banget, pen...   \n",
       "7  [haaaa, gilaaa, penasaran, banget, apa, sih, i...   \n",
       "8  [saya, download, app, dmsplus, di, tv, android...   \n",
       "9  [hy, kak, sara, aku, penonton, setia, dmsbrtan...   \n",
       "\n",
       "                                       text_stopword  \\\n",
       "0  [merinding, kerasa, brook, geloo, kali, merind...   \n",
       "1  [orang, surabaya, rumah, inistiap, slalu, wani...   \n",
       "2                        [nungguin, kalisosok, nyai]   \n",
       "3                     [duet, sm, ghost, ranger, kak]   \n",
       "4  [kesini, gara, gara, pesulap, merah, singgung,...   \n",
       "5  [setuju, sarah, kolaborasi, ki, prana, lewu, s...   \n",
       "6  [sumpah, episode, kali, mual, banget, pengen, ...   \n",
       "7  [haaaa, gilaaa, penasaran, banget, ibunya, dav...   \n",
       "8  [download, app, dmsplus, tv, android, masukkan...   \n",
       "9  [hy, kak, sara, penonton, setia, dmsbrtanggapa...   \n",
       "\n",
       "                                          text_akhir  \n",
       "0        merinding kerasa brook geloo kali merinding  \n",
       "1  orang surabaya rumah inistiap slalu wanita ber...  \n",
       "2                            nungguin kalisosok nyai  \n",
       "3                           duet sm ghost ranger kak  \n",
       "4  kesini gara gara pesulap merah singgung inisia...  \n",
       "5  setuju sarah kolaborasi ki prana lewu seru pen...  \n",
       "6  sumpah episode kali mual banget pengen muntah ...  \n",
       "7      haaaa gilaaa penasaran banget ibunya daviiidd  \n",
       "8  download app dmsplus tv android masukkan email...  \n",
       "9  hy kak sara penonton setia dmsbrtanggapan kak ...  "
      ]
     },
     "execution_count": 6,
     "metadata": {},
     "output_type": "execute_result"
    }
   ],
   "source": [
    "data.head(10)"
   ]
  },
  {
   "cell_type": "code",
   "execution_count": 7,
   "metadata": {},
   "outputs": [
    {
     "data": {
      "text/html": [
       "<div>\n",
       "<style scoped>\n",
       "    .dataframe tbody tr th:only-of-type {\n",
       "        vertical-align: middle;\n",
       "    }\n",
       "\n",
       "    .dataframe tbody tr th {\n",
       "        vertical-align: top;\n",
       "    }\n",
       "\n",
       "    .dataframe thead th {\n",
       "        text-align: right;\n",
       "    }\n",
       "</style>\n",
       "<table border=\"1\" class=\"dataframe\">\n",
       "  <thead>\n",
       "    <tr style=\"text-align: right;\">\n",
       "      <th></th>\n",
       "      <th>author</th>\n",
       "      <th>comment</th>\n",
       "      <th>likes</th>\n",
       "      <th>text_clean</th>\n",
       "      <th>text_casefoldingText</th>\n",
       "      <th>text_slangwords</th>\n",
       "      <th>text_tokenizingText</th>\n",
       "      <th>text_stopword</th>\n",
       "      <th>text_akhir</th>\n",
       "      <th>subjektivitas</th>\n",
       "      <th>polaritas</th>\n",
       "      <th>sentimen</th>\n",
       "    </tr>\n",
       "  </thead>\n",
       "  <tbody>\n",
       "    <tr>\n",
       "      <th>0</th>\n",
       "      <td>@mochibull</td>\n",
       "      <td>Merinding nya kerasa sampe sini brook, geloo, ...</td>\n",
       "      <td>0</td>\n",
       "      <td>Merinding nya kerasa sampe sini brook geloo ba...</td>\n",
       "      <td>merinding nya kerasa sampe sini brook geloo ba...</td>\n",
       "      <td>merinding nya kerasa sampai sini brook geloo b...</td>\n",
       "      <td>[merinding, nya, kerasa, sampai, sini, brook, ...</td>\n",
       "      <td>[merinding, kerasa, brook, geloo, kali, merind...</td>\n",
       "      <td>merinding kerasa brook geloo kali merinding</td>\n",
       "      <td>0.0</td>\n",
       "      <td>0.0</td>\n",
       "      <td>netral</td>\n",
       "    </tr>\n",
       "    <tr>\n",
       "      <th>1</th>\n",
       "      <td>@AnisSuci-y7i</td>\n",
       "      <td>Saya orang Surabaya saya sering lewat rumah in...</td>\n",
       "      <td>0</td>\n",
       "      <td>Saya orang Surabaya saya sering lewat rumah in...</td>\n",
       "      <td>saya orang surabaya saya sering lewat rumah in...</td>\n",
       "      <td>saya orang surabaya saya sering lewat rumah in...</td>\n",
       "      <td>[saya, orang, surabaya, saya, sering, lewat, r...</td>\n",
       "      <td>[orang, surabaya, rumah, inistiap, slalu, wani...</td>\n",
       "      <td>orang surabaya rumah inistiap slalu wanita ber...</td>\n",
       "      <td>0.0</td>\n",
       "      <td>0.0</td>\n",
       "      <td>netral</td>\n",
       "    </tr>\n",
       "    <tr>\n",
       "      <th>2</th>\n",
       "      <td>@nurhaliza7192</td>\n",
       "      <td>nungguin yang di kalisosok nya kapan nyai😭</td>\n",
       "      <td>0</td>\n",
       "      <td>nungguin yang di kalisosok nya kapan nyai</td>\n",
       "      <td>nungguin yang di kalisosok nya kapan nyai</td>\n",
       "      <td>nungguin yang di kalisosok nya kapan nyai</td>\n",
       "      <td>[nungguin, yang, di, kalisosok, nya, kapan, nyai]</td>\n",
       "      <td>[nungguin, kalisosok, nyai]</td>\n",
       "      <td>nungguin kalisosok nyai</td>\n",
       "      <td>0.0</td>\n",
       "      <td>0.0</td>\n",
       "      <td>netral</td>\n",
       "    </tr>\n",
       "    <tr>\n",
       "      <th>3</th>\n",
       "      <td>@fitri8282</td>\n",
       "      <td>duet sm ghost ranger kak</td>\n",
       "      <td>0</td>\n",
       "      <td>duet sm ghost ranger kak</td>\n",
       "      <td>duet sm ghost ranger kak</td>\n",
       "      <td>duet sm ghost ranger kak</td>\n",
       "      <td>[duet, sm, ghost, ranger, kak]</td>\n",
       "      <td>[duet, sm, ghost, ranger, kak]</td>\n",
       "      <td>duet sm ghost ranger kak</td>\n",
       "      <td>0.0</td>\n",
       "      <td>0.0</td>\n",
       "      <td>netral</td>\n",
       "    </tr>\n",
       "    <tr>\n",
       "      <th>4</th>\n",
       "      <td>@GojakGojek-d3e</td>\n",
       "      <td>Kesini gara gara pesulap merah singgung inisia...</td>\n",
       "      <td>0</td>\n",
       "      <td>Kesini gara gara pesulap merah singgung inisia...</td>\n",
       "      <td>kesini gara gara pesulap merah singgung inisia...</td>\n",
       "      <td>kesini gara gara pesulap merah singgung inisia...</td>\n",
       "      <td>[kesini, gara, gara, pesulap, merah, singgung,...</td>\n",
       "      <td>[kesini, gara, gara, pesulap, merah, singgung,...</td>\n",
       "      <td>kesini gara gara pesulap merah singgung inisia...</td>\n",
       "      <td>0.0</td>\n",
       "      <td>0.0</td>\n",
       "      <td>netral</td>\n",
       "    </tr>\n",
       "  </tbody>\n",
       "</table>\n",
       "</div>"
      ],
      "text/plain": [
       "            author                                            comment  likes  \\\n",
       "0       @mochibull  Merinding nya kerasa sampe sini brook, geloo, ...      0   \n",
       "1    @AnisSuci-y7i  Saya orang Surabaya saya sering lewat rumah in...      0   \n",
       "2   @nurhaliza7192         nungguin yang di kalisosok nya kapan nyai😭      0   \n",
       "3       @fitri8282                           duet sm ghost ranger kak      0   \n",
       "4  @GojakGojek-d3e  Kesini gara gara pesulap merah singgung inisia...      0   \n",
       "\n",
       "                                          text_clean  \\\n",
       "0  Merinding nya kerasa sampe sini brook geloo ba...   \n",
       "1  Saya orang Surabaya saya sering lewat rumah in...   \n",
       "2          nungguin yang di kalisosok nya kapan nyai   \n",
       "3                           duet sm ghost ranger kak   \n",
       "4  Kesini gara gara pesulap merah singgung inisia...   \n",
       "\n",
       "                                text_casefoldingText  \\\n",
       "0  merinding nya kerasa sampe sini brook geloo ba...   \n",
       "1  saya orang surabaya saya sering lewat rumah in...   \n",
       "2          nungguin yang di kalisosok nya kapan nyai   \n",
       "3                           duet sm ghost ranger kak   \n",
       "4  kesini gara gara pesulap merah singgung inisia...   \n",
       "\n",
       "                                     text_slangwords  \\\n",
       "0  merinding nya kerasa sampai sini brook geloo b...   \n",
       "1  saya orang surabaya saya sering lewat rumah in...   \n",
       "2          nungguin yang di kalisosok nya kapan nyai   \n",
       "3                           duet sm ghost ranger kak   \n",
       "4  kesini gara gara pesulap merah singgung inisia...   \n",
       "\n",
       "                                 text_tokenizingText  \\\n",
       "0  [merinding, nya, kerasa, sampai, sini, brook, ...   \n",
       "1  [saya, orang, surabaya, saya, sering, lewat, r...   \n",
       "2  [nungguin, yang, di, kalisosok, nya, kapan, nyai]   \n",
       "3                     [duet, sm, ghost, ranger, kak]   \n",
       "4  [kesini, gara, gara, pesulap, merah, singgung,...   \n",
       "\n",
       "                                       text_stopword  \\\n",
       "0  [merinding, kerasa, brook, geloo, kali, merind...   \n",
       "1  [orang, surabaya, rumah, inistiap, slalu, wani...   \n",
       "2                        [nungguin, kalisosok, nyai]   \n",
       "3                     [duet, sm, ghost, ranger, kak]   \n",
       "4  [kesini, gara, gara, pesulap, merah, singgung,...   \n",
       "\n",
       "                                          text_akhir  subjektivitas  \\\n",
       "0        merinding kerasa brook geloo kali merinding            0.0   \n",
       "1  orang surabaya rumah inistiap slalu wanita ber...            0.0   \n",
       "2                            nungguin kalisosok nyai            0.0   \n",
       "3                           duet sm ghost ranger kak            0.0   \n",
       "4  kesini gara gara pesulap merah singgung inisia...            0.0   \n",
       "\n",
       "   polaritas sentimen  \n",
       "0        0.0   netral  \n",
       "1        0.0   netral  \n",
       "2        0.0   netral  \n",
       "3        0.0   netral  \n",
       "4        0.0   netral  "
      ]
     },
     "execution_count": 7,
     "metadata": {},
     "output_type": "execute_result"
    }
   ],
   "source": [
    "# Mendefinisikan subjektivitas untuk menilai tingkat subjektivitas pada komentar\n",
    "def subjektivitas(tr_text):\n",
    "    return TextBlob(tr_text).sentiment.subjectivity\n",
    "\n",
    "# Mendefinisikan polaritas untuk menilai tingkat polaritas pada komentar\n",
    "def polaritas(tr_text):\n",
    "    return TextBlob(tr_text).sentiment.polarity\n",
    "\n",
    "# Mendefinisikan hasil sentimen untuk memberikan label pada komentar\n",
    "def hasilSentimen(nilai):\n",
    "    if nilai < 0:\n",
    "        return \"negatif\"\n",
    "    elif nilai > 0:\n",
    "        return \"positif\"\n",
    "    else:\n",
    "        return \"netral\"\n",
    "\n",
    "# Menambahkan kolom subjektivitas dengan mengaplikasikan fungsi subjektivitas\n",
    "data[\"subjektivitas\"] = data[\"text_akhir\"].apply(subjektivitas)\n",
    "\n",
    "# Menambahkan kolom polaritas dengan mengaplikasikan fungsi polaritas\n",
    "data[\"polaritas\"] = data[\"text_akhir\"].apply(polaritas)\n",
    "\n",
    "# Menambahkan kolom sentimen dengan mengaplikasikan fungsi hasil sentimen\n",
    "data[\"sentimen\"] = data[\"polaritas\"].apply(hasilSentimen)\n",
    "\n",
    "# Menampilkan 5 baris pertama data setelah diaplikasikan seluruh fungsi\n",
    "data.head()\n"
   ]
  },
  {
   "cell_type": "code",
   "execution_count": 24,
   "metadata": {},
   "outputs": [
    {
     "data": {
      "text/plain": [
       "sentimen\n",
       "netral     20798\n",
       "positif     1135\n",
       "negatif      140\n",
       "Name: count, dtype: int64"
      ]
     },
     "execution_count": 24,
     "metadata": {},
     "output_type": "execute_result"
    }
   ],
   "source": [
    "# Menghitung jumlah masing-masing sentimen\n",
    "data[\"sentimen\"].value_counts()"
   ]
  },
  {
   "cell_type": "code",
   "execution_count": 8,
   "metadata": {},
   "outputs": [
    {
     "data": {
      "text/plain": [
       "Text(0.5, 1.0, 'Persentase Masing-Masing Sentimen')"
      ]
     },
     "execution_count": 8,
     "metadata": {},
     "output_type": "execute_result"
    },
    {
     "data": {
      "image/png": "[encoded data removed]",
      "text/plain": [
       "<Figure size 640x480 with 1 Axes>"
      ]
     },
     "metadata": {},
     "output_type": "display_data"
    }
   ],
   "source": [
    "# Menghitung jumlah masing-masing sentimen\n",
    "data[\"sentimen\"].value_counts()\n",
    "diagram = data[\"sentimen\"].value_counts().rename_axis(\"nilai_sentimen\").reset_index(name=\"jumlah\")\n",
    "label = diagram.nilai_sentimen\n",
    "nilai = diagram.jumlah\n",
    "\n",
    "fig = plt.figure()\n",
    "ax = fig.add_axes([0, 0, 1, 1])\n",
    "ax.axis = (\"equal\")\n",
    "\n",
    "# Membentuk pie plot untuk menampilkan persentase masing-masing sentimen\n",
    "ax.pie(nilai, labels=label, autopct=\"%1.2f%%\")\n",
    "ax.set_title(\"Persentase Masing-Masing Sentimen\")"
   ]
  },
  {
   "cell_type": "markdown",
   "metadata": {},
   "source": [
    "Dari hasil di atas, dapat dilihat bahwa sentimen netral berjumlah 20,798 atau sekitar 94.22% dari total, sentimen positif berjumlah 1,135 atau sekitar 5.14% dari total, dan sentimen negatif berjumlah 140 atau sekitar 0.63% dari total. Selanjutnya, kita akan menyimpan dataset yang telah diberi label."
   ]
  },
  {
   "cell_type": "code",
   "execution_count": 9,
   "metadata": {},
   "outputs": [],
   "source": [
    "# Menyimpan dataset yang telah diberi label dalam file csv baru\n",
    "data.to_csv(\"komen_dms_berlabel.csv\", encoding=\"utf8\", index=False)"
   ]
  },
  {
   "cell_type": "markdown",
   "metadata": {},
   "source": [
    "Data Processing dan Ekstraksi Fitur"
   ]
  },
  {
   "cell_type": "markdown",
   "metadata": {},
   "source": [
    "Setelah data di preproses, kita akan memproses data untuk pelatihan model machine learning dan deep learning. Karena jumlah komentar positif dan negatif jauh lebih sedikit dibanding komentar netral, maka kita akan melakukan oversampling data untuk keduanya. Pada proyek ini, komentar positif dan negatif akan dioversampling sehingga jumlahnya menjadi 20798 baris."
   ]
  },
  {
   "cell_type": "code",
   "execution_count": 10,
   "metadata": {},
   "outputs": [
    {
     "name": "stdout",
     "output_type": "stream",
     "text": [
      "Jumlah masing-masing sentimen setelah oversampling:\n",
      "sentimen\n",
      "netral     20798\n",
      "positif    20798\n",
      "negatif    20798\n",
      "Name: count, dtype: int64\n"
     ]
    }
   ],
   "source": [
    "# Mendefinisikan jumlah target baris untuk setiap sentimen berdasarkan jumlah komentar netral\n",
    "target_num = data[data[\"sentimen\"] == \"netral\"].shape[0]  # Jumlah netral sebagai acuan (20806)\n",
    "\n",
    "# Menghitung jumlah baris pada setiap kategori sentimen yang ada\n",
    "current_counts = data[\"sentimen\"].value_counts()\n",
    "\n",
    "# Menghitung jumlah tambahan baris komentar yang diperlukan untuk masing-masing kategori\n",
    "num_additional_positif = target_num - current_counts[\"positif\"]\n",
    "num_additional_negatif = target_num - current_counts[\"negatif\"]\n",
    "\n",
    "# Melakukan oversampling pada sentimen positif dan negatif\n",
    "additional_positif_samples = data[data[\"sentimen\"] == \"positif\"].sample(num_additional_positif, replace=True)\n",
    "additional_negatif_samples = data[data[\"sentimen\"] == \"negatif\"].sample(num_additional_negatif, replace=True)\n",
    "\n",
    "# Menggabungkan data asli dengan data oversampling\n",
    "balanced_data = pd.concat([data, additional_positif_samples, additional_negatif_samples], ignore_index=True)\n",
    "\n",
    "# Menampilkan jumlah masing-masing sentimen setelah dilakukan oversampling\n",
    "print(\"Jumlah masing-masing sentimen setelah oversampling:\")\n",
    "print(balanced_data[\"sentimen\"].value_counts())"
   ]
  },
  {
   "cell_type": "markdown",
   "metadata": {},
   "source": [
    "Setelah dilakukan oversampling, terlihat bahwa jumlah data pada masing-masing sentimen sudah sama. Selanjutnya, kita akan melakukan ekstraksi fitur pada dataset menggunakan TF-IDF"
   ]
  },
  {
   "cell_type": "code",
   "execution_count": 11,
   "metadata": {},
   "outputs": [],
   "source": [
    "# Memisahkan data menjadi fitur (comment) dan label (sentimen)\n",
    "X = balanced_data[\"comment\"]\n",
    "y = balanced_data[\"sentimen\"]\n",
    "\n",
    "# Ekstraksi fitur dengan TF-IDF\n",
    "tfidf = TfidfVectorizer(max_features=5000, min_df=20, max_df=0.8)\n",
    "X_tfidf = tfidf.fit_transform(X)\n",
    "\n",
    "# Konversi hasil ekstraksi fitur menjadi dataframe\n",
    "features_df = pd.DataFrame(X_tfidf.toarray(), columns=tfidf.get_feature_names_out())\n"
   ]
  },
  {
   "cell_type": "code",
   "execution_count": 12,
   "metadata": {},
   "outputs": [],
   "source": [
    "# Pembagian data 80/20\n",
    "X_train, X_test, y_train, y_test = train_test_split(X_tfidf, y, test_size=0.2, random_state=42)"
   ]
  },
  {
   "cell_type": "markdown",
   "metadata": {},
   "source": [
    "Pemodelan"
   ]
  },
  {
   "cell_type": "markdown",
   "metadata": {},
   "source": [
    "Pelatihan: SVM,    Ekstraksi Fitur: TF-IDF,    Pembagian Data: 80/20"
   ]
  },
  {
   "cell_type": "code",
   "execution_count": 13,
   "metadata": {},
   "outputs": [
    {
     "name": "stdout",
     "output_type": "stream",
     "text": [
      "SVM with TF-IDF - accuracy_train: 0.9983972753681258\n",
      "SVM with TF-IDF - accuracy_test: 0.9982370382242167\n"
     ]
    }
   ],
   "source": [
    "# Model pelatihan: SVM\n",
    "svm_model = SVC(kernel='linear', random_state=42)\n",
    "svm_model.fit(X_train, y_train)\n",
    "\n",
    "# Evaluasi model\n",
    "y_pred_train_svm = svm_model.predict(X_train)\n",
    "y_pred_test_svm = svm_model.predict(X_test)\n",
    "\n",
    "accuracy_train_svm = accuracy_score(y_train, y_pred_train_svm)\n",
    "accuracy_test_svm = accuracy_score(y_test, y_pred_test_svm)\n",
    "\n",
    "print(\"SVM with TF-IDF - accuracy_train:\", accuracy_train_svm)\n",
    "print(\"SVM with TF-IDF - accuracy_test:\", accuracy_test_svm)"
   ]
  },
  {
   "cell_type": "markdown",
   "metadata": {},
   "source": [
    "Pelatihan: RF,    Ekstraksi Fitur: Word2Vec,    Pembagian Data: 80/20"
   ]
  },
  {
   "cell_type": "code",
   "execution_count": 14,
   "metadata": {},
   "outputs": [
    {
     "name": "stdout",
     "output_type": "stream",
     "text": [
      "Random Forest with Word2Vec - accuracy_train: 1.0\n",
      "Random Forest with Word2Vec - accuracy_test: 0.9994390576167962\n"
     ]
    }
   ],
   "source": [
    "# Ekstraksi fitur menggunakan Word2Vec\n",
    "sentences = [komentar.split() for komentar in X]\n",
    "word2vec = Word2Vec(sentences, vector_size=100, window=5, min_count=1, workers=4)\n",
    "\n",
    "# Representasi setiap komentar dengan rata-rata vektor kata\n",
    "X_word2vec = np.array([\n",
    "    np.mean([word2vec.wv[word] for word in komentar.split() if word in word2vec.wv], axis=0)\n",
    "    if any(word in word2vec.wv for word in komentar.split()) else np.zeros(100)\n",
    "    for komentar in X\n",
    "])\n",
    "\n",
    "# Pembagian data 80/20\n",
    "X_train, X_test, y_train, y_test = train_test_split(X_word2vec, y, test_size=0.2, random_state=42)\n",
    "\n",
    "# Model pelatihan: Random Forest\n",
    "rf_word2vec_model = RandomForestClassifier(random_state=42)\n",
    "rf_word2vec_model.fit(X_train, y_train)  # Perbaikan: Gunakan X_train dan y_train\n",
    "\n",
    "# Evaluasi model\n",
    "y_pred_train_rf = rf_word2vec_model.predict(X_train)\n",
    "y_pred_test_rf = rf_word2vec_model.predict(X_test)\n",
    "\n",
    "accuracy_train_rf = accuracy_score(y_train, y_pred_train_rf)\n",
    "accuracy_test_rf = accuracy_score(y_test, y_pred_test_rf)\n",
    "\n",
    "print(\"Random Forest with Word2Vec - accuracy_train:\", accuracy_train_rf)\n",
    "print(\"Random Forest with Word2Vec - accuracy_test:\", accuracy_test_rf)"
   ]
  },
  {
   "cell_type": "markdown",
   "metadata": {},
   "source": [
    "Pelatihan: RF,    Ekstraksi Fitur: TF-IDF,    Pembagian Data: 70/30 "
   ]
  },
  {
   "cell_type": "code",
   "execution_count": 15,
   "metadata": {},
   "outputs": [
    {
     "name": "stdout",
     "output_type": "stream",
     "text": [
      "Random Forest with TF-IDF - accuracy_train: 1.0\n",
      "Random Forest with TF-IDF - accuracy_test: 0.9995192050857418\n"
     ]
    }
   ],
   "source": [
    "# TF-IDF Vectorization\n",
    "tfidf_vectorizer = TfidfVectorizer()\n",
    "X_tfidf = tfidf_vectorizer.fit_transform(X)  # Konversi teks ke vektor TF-IDF\n",
    "\n",
    "# Pembagian data 70/30\n",
    "X_train, X_test, y_train, y_test = train_test_split(X_tfidf, y, test_size=0.3, random_state=42)\n",
    "\n",
    "# Training model Random Forest untuk TF-IDF\n",
    "rf_tfidf_model = RandomForestClassifier(random_state=42)\n",
    "rf_tfidf_model.fit(X_train, y_train)  # Gunakan X_train yang benar\n",
    "\n",
    "# Evaluasi model\n",
    "y_pred_train_rf = rf_tfidf_model.predict(X_train)\n",
    "y_pred_test_rf = rf_tfidf_model.predict(X_test)\n",
    "\n",
    "accuracy_train_rf = accuracy_score(y_train, y_pred_train_rf)\n",
    "accuracy_test_rf = accuracy_score(y_test, y_pred_test_rf)\n",
    "\n",
    "print(\"Random Forest with TF-IDF - accuracy_train:\", accuracy_train_rf)\n",
    "print(\"Random Forest with TF-IDF - accuracy_test:\", accuracy_test_rf)"
   ]
  },
  {
   "cell_type": "markdown",
   "metadata": {},
   "source": [
    "Deep Learning LSTM Model"
   ]
  },
  {
   "cell_type": "code",
   "execution_count": 16,
   "metadata": {},
   "outputs": [
    {
     "name": "stderr",
     "output_type": "stream",
     "text": [
      "c:\\Users\\victus\\AppData\\Local\\Programs\\Python\\Python311\\Lib\\site-packages\\keras\\src\\layers\\core\\embedding.py:90: UserWarning: Argument `input_length` is deprecated. Just remove it.\n",
      "  warnings.warn(\n"
     ]
    },
    {
     "name": "stdout",
     "output_type": "stream",
     "text": [
      "\u001b[1m1092/1092\u001b[0m \u001b[32m━━━━━━━━━━━━━━━━━━━━\u001b[0m\u001b[37m\u001b[0m \u001b[1m32118s\u001b[0m 29s/step - accuracy: 0.3361 - loss: 1.0996 - val_accuracy: 0.3315 - val_loss: 1.0986\n",
      "\u001b[1m585/585\u001b[0m \u001b[32m━━━━━━━━━━━━━━━━━━━━\u001b[0m\u001b[37m\u001b[0m \u001b[1m1938s\u001b[0m 3s/step - accuracy: 0.3343 - loss: 1.0986\n",
      "LSTM Accuracy: 0.3305732011795044\n"
     ]
    }
   ],
   "source": [
    "# Model LSTM\n",
    "embedding_dim = 128\n",
    "lstm_model = Sequential([\n",
    "    Embedding(input_dim=len(tfidf.vocabulary_), output_dim=embedding_dim, input_length=X_tfidf.shape[1]),\n",
    "    LSTM(128, return_sequences=False),\n",
    "    Dense(64, activation='relu'),\n",
    "    Dropout(0.5),\n",
    "    Dense(3, activation='softmax')\n",
    "])\n",
    "lstm_model.compile(optimizer='adam', loss='sparse_categorical_crossentropy', metrics=['accuracy'])\n",
    "\n",
    "lstm_model.fit(X_train.toarray(), y_train.factorize()[0], epochs=1, batch_size=32, validation_split=0.2)\n",
    "loss, accuracy = lstm_model.evaluate(X_test.toarray(), y_test.factorize()[0])\n",
    "print(f\"LSTM Accuracy: {accuracy}\")\n"
   ]
  },
  {
   "cell_type": "markdown",
   "metadata": {},
   "source": [
    "Model LSTM memiliki akurasi rendah (~33%) pada data latih dan uji dengan loss yang hampir sama (1.0986), menunjukkan bahwa model tidak belajar pola yang signifikan dan kinerjanya sebanding dengan tebakan acak."
   ]
  },
  {
   "cell_type": "markdown",
   "metadata": {},
   "source": [
    "Deep Leaning CNN Model"
   ]
  },
  {
   "cell_type": "code",
   "execution_count": 17,
   "metadata": {},
   "outputs": [
    {
     "name": "stderr",
     "output_type": "stream",
     "text": [
      "c:\\Users\\victus\\AppData\\Local\\Programs\\Python\\Python311\\Lib\\site-packages\\keras\\src\\layers\\core\\embedding.py:90: UserWarning: Argument `input_length` is deprecated. Just remove it.\n",
      "  warnings.warn(\n"
     ]
    },
    {
     "name": "stdout",
     "output_type": "stream",
     "text": [
      "\u001b[1m1092/1092\u001b[0m \u001b[32m━━━━━━━━━━━━━━━━━━━━\u001b[0m\u001b[37m\u001b[0m \u001b[1m8270s\u001b[0m 8s/step - accuracy: 0.3358 - loss: 2.5134 - val_accuracy: 0.3366 - val_loss: 1.0986\n",
      "\u001b[1m585/585\u001b[0m \u001b[32m━━━━━━━━━━━━━━━━━━━━\u001b[0m\u001b[37m\u001b[0m \u001b[1m225s\u001b[0m 385ms/step - accuracy: 0.3321 - loss: 1.0987\n",
      "CNN Accuracy: 0.3318019211292267\n"
     ]
    }
   ],
   "source": [
    "# Model CNN\n",
    "cnn_model = Sequential([\n",
    "    Embedding(input_dim=len(tfidf.vocabulary_), output_dim=embedding_dim, input_length=X_tfidf.shape[1]),\n",
    "    Conv1D(128, kernel_size=5, activation='relu'),\n",
    "    MaxPooling1D(pool_size=2),\n",
    "    Flatten(),\n",
    "    Dense(64, activation='relu'),\n",
    "    Dropout(0.5),\n",
    "    Dense(3, activation='softmax')\n",
    "])\n",
    "cnn_model.compile(optimizer='adam', loss='sparse_categorical_crossentropy', metrics=['accuracy'])\n",
    "\n",
    "cnn_model.fit(X_train.toarray(), y_train.factorize()[0], epochs=1, batch_size=32, validation_split=0.2)\n",
    "loss, accuracy = cnn_model.evaluate(X_test.toarray(), y_test.factorize()[0])\n",
    "print(f\"CNN Accuracy: {accuracy}\")"
   ]
  },
  {
   "cell_type": "markdown",
   "metadata": {},
   "source": [
    "Model CNN memiliki akurasi rendah (~33%) pada data latih dan uji dengan loss yang tidak signifikan berubah (~1.0986), menunjukkan model tidak mampu mempelajari pola data dan kinerjanya setara dengan tebakan acak."
   ]
  },
  {
   "cell_type": "markdown",
   "metadata": {},
   "source": [
    "Inference Function"
   ]
  },
  {
   "cell_type": "markdown",
   "metadata": {},
   "source": [
    "Karena akurasi yang dihasilkan oleh deep learning model LSTM dan model CNN sangat rendah, sebagai contoh disini kita menggunakan SVM untuk memprediksi sentimennya."
   ]
  },
  {
   "cell_type": "code",
   "execution_count": 30,
   "metadata": {},
   "outputs": [
    {
     "name": "stdout",
     "output_type": "stream",
     "text": [
      "Teks yang dimasukkan adalah: Video penelusuran DMS kali ini sangat seru dan mengerikan\n",
      "Predicted Sentiment: Netral\n"
     ]
    }
   ],
   "source": [
    "# Mendefinisikan mapping untuk menampilkan output klasifikasi sentimen\n",
    "label_mapping = {\"positif\": \"Positif\", \"netral\": \"Netral\", \"negatif\": \"Negatif\"}\n",
    "\n",
    "def preprocess_input(text, tfidf_vectorizer):\n",
    "    \"\"\"Preprocess the input text to match the training data preprocessing.\"\"\"\n",
    "    text_tokenized = word_tokenize(text)  # Tokenisasi\n",
    "    text_transformed = tfidf_vectorizer.transform([\" \".join(text_tokenized)])  # Gunakan transform bukan fit_transform\n",
    "    return text_transformed\n",
    "\n",
    "def predict_sentiment(text, model, tfidf_vectorizer):\n",
    "    \"\"\"Predict the sentiment of the given text using the trained model.\"\"\"\n",
    "    # Preproses teks input langsung\n",
    "    preprocessed_text = preprocess_input(text, tfidf_vectorizer)\n",
    "\n",
    "    # Memastikan teks memiliki ukuran yang sesuai\n",
    "    preprocessed_text_array = preprocessed_text.toarray()\n",
    "\n",
    "    # Membuat prediksi teks\n",
    "    prediction = model.predict(preprocessed_text_array)\n",
    "\n",
    "    # Memprediksi teks ke sentimen yang sesuai\n",
    "    predicted_sentiment = label_mapping[prediction[0]]\n",
    "\n",
    "    return predicted_sentiment\n",
    "\n",
    "# Memberikan input pada pengguna untuk memasukkan teks untuk diuji\n",
    "input_text = input(\"Masukkan Teks: \")\n",
    "print(\"Teks yang dimasukkan adalah:\", input_text)\n",
    "predicted_sentiment = predict_sentiment(input_text, svm_model, tfidf)\n",
    "print(f\"Predicted Sentiment: {predicted_sentiment}\")\n"
   ]
  }
 ],
 "metadata": {
  "kernelspec": {
   "display_name": "Python 3",
   "language": "python",
   "name": "python3"
  },
  "language_info": {
   "codemirror_mode": {
    "name": "ipython",
    "version": 3
   },
   "file_extension": ".py",
   "mimetype": "text/x-python",
   "name": "python",
   "nbconvert_exporter": "python",
   "pygments_lexer": "ipython3",
   "version": "3.11.8"
  }
 },
 "nbformat": 4,
 "nbformat_minor": 2
}
